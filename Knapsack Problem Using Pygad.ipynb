{
 "cells": [
  {
   "cell_type": "code",
   "execution_count": 15,
   "id": "67ee94be",
   "metadata": {},
   "outputs": [],
   "source": [
    "import pygad\n",
    "import pandas\n",
    "import numpy as np\n",
    "import random \n",
    "random.seed(1)"
   ]
  },
  {
   "cell_type": "code",
   "execution_count": 16,
   "id": "cbc26401",
   "metadata": {},
   "outputs": [],
   "source": [
    "solutions=[]\n",
    "capacity =20 #volume limit\n",
    "number_of_items =10 #total number of items in the antique shop\n"
   ]
  },
  {
   "cell_type": "code",
   "execution_count": 17,
   "id": "e6a8e500",
   "metadata": {},
   "outputs": [],
   "source": [
    "def get_random(x): #generate list of random number from 1-8 \n",
    "    rand_list=[]\n",
    "    for y in range(x):\n",
    "        temp =random.randint(1,8) #generate random number for 1-7 \n",
    "        rand_list.append(temp)\n",
    "    return rand_list\n",
    "\n"
   ]
  },
  {
   "cell_type": "code",
   "execution_count": 24,
   "id": "ce87268f",
   "metadata": {},
   "outputs": [],
   "source": [
    "def create_antique_items():\n",
    "    values = get_random(number_of_items)\n",
    "    volume = get_random(number_of_items)\n",
    "    return(volume, values)"
   ]
  },
  {
   "cell_type": "code",
   "execution_count": 25,
   "id": "61472827",
   "metadata": {},
   "outputs": [
    {
     "name": "stdout",
     "output_type": "stream",
     "text": [
      "Volume  [2, 3, 7, 6, 8, 1, 8, 1, 5, 7]\n",
      "Values  [1, 8, 4, 7, 7, 3, 6, 6, 2, 8]\n"
     ]
    }
   ],
   "source": [
    "volume,values,  =create_antique_items() \n",
    "print(\"Volume \", volume)\n",
    "print(\"Values \", values)"
   ]
  },
  {
   "cell_type": "code",
   "execution_count": 26,
   "id": "85b36777",
   "metadata": {},
   "outputs": [],
   "source": [
    "def fitness_func(solution, solution_idx): #defined fitness function.  \n",
    "    a= np.array(solution)\n",
    "    b= np.array(values)\n",
    "    c = np.array(volume)\n",
    "    curr_volume =sum(a*c)\n",
    "    if(curr_volume > capacity):\n",
    "        return 0;\n",
    "    else:\n",
    "        fitness =(sum(a*b))\n",
    "        return fitness"
   ]
  },
  {
   "cell_type": "code",
   "execution_count": 27,
   "id": "71a7c928",
   "metadata": {},
   "outputs": [],
   "source": [
    "fitness_function = fitness_func\n",
    "\n",
    "num_generations = 50\n",
    "num_parents_mating = 2\n",
    "\n",
    "sol_per_pop = 8\n",
    "num_genes = number_of_items\n",
    "\n",
    "init_range_low = 0 # set the range from 0 to 1\n",
    "init_range_high = 2\n",
    "\n",
    "parent_selection_type = \"sss\" #use steady state selection\n",
    "keep_parents = 1\n",
    "\n",
    "crossover_type = \"two_points\" #Two crossover points are picked randomly from the parent chromosomes.\n",
    "\n",
    "mutation_type = \"swap\" # select two positions on the chromosome at random, and interchange the values\n",
    "\n",
    "mutation_percent_genes =20   #20 % of the genes will be mutated"
   ]
  },
  {
   "cell_type": "code",
   "execution_count": 28,
   "id": "447362e2",
   "metadata": {},
   "outputs": [
    {
     "name": "stdout",
     "output_type": "stream",
     "text": [
      "Popoulation in each Generation: 8\n",
      "(array([1, 1, 1, 1, 0, 1, 0, 1, 0, 0]), 29, 2)\n"
     ]
    },
    {
     "data": {
      "image/png": "[encoded data removed]",
      "text/plain": [
       "<Figure size 432x288 with 1 Axes>"
      ]
     },
     "metadata": {
      "needs_background": "light"
     },
     "output_type": "display_data"
    },
    {
     "data": {
      "image/png": "[encoded data removed]",
      "text/plain": [
       "<Figure size 432x288 with 1 Axes>"
      ]
     },
     "execution_count": 28,
     "metadata": {},
     "output_type": "execute_result"
    }
   ],
   "source": [
    "ga_instance = pygad.GA(num_generations=num_generations,\n",
    "                       num_parents_mating=num_parents_mating,\n",
    "                       fitness_func=fitness_function,\n",
    "                       sol_per_pop=sol_per_pop,\n",
    "                       num_genes=num_genes,\n",
    "                       init_range_low=init_range_low,\n",
    "                       init_range_high=init_range_high,\n",
    "                       parent_selection_type=parent_selection_type,\n",
    "                       keep_parents=keep_parents,\n",
    "                       crossover_type=crossover_type,\n",
    "                       mutation_type=mutation_type,\n",
    "                       mutation_percent_genes=mutation_percent_genes,save_solutions=True,gene_type=int)\n",
    "ga_instance.run()\n",
    "Popu=ga_instance.initial_population.shape\n",
    "print(\"Popoulation in each Generation: {popu}\".format(popu=Popu[0]))\n",
    "print(ga_instance.best_solution())\n",
    "ga_instance.plot_fitness()\n"
   ]
  },
  {
   "cell_type": "code",
   "execution_count": 29,
   "id": "e5fac023",
   "metadata": {},
   "outputs": [
    {
     "name": "stdout",
     "output_type": "stream",
     "text": [
      "Parameters of the best solution : [1 1 1 1 0 1 0 1 0 0]\n",
      "Fitness value of the best solution = 29\n"
     ]
    }
   ],
   "source": [
    "solution, solution_fitness, solution_idx = ga_instance.best_solution()\n",
    "print(\"Parameters of the best solution : {solution}\".format(solution=solution))\n",
    "print(\"Fitness value of the best solution = {solution_fitness}\".format(solution_fitness=solution_fitness))\n"
   ]
  },
  {
   "cell_type": "code",
   "execution_count": null,
   "id": "4c65135c",
   "metadata": {},
   "outputs": [],
   "source": []
  }
 ],
 "metadata": {
  "kernelspec": {
   "display_name": "Python 3 (ipykernel)",
   "language": "python",
   "name": "python3"
  },
  "language_info": {
   "codemirror_mode": {
    "name": "ipython",
    "version": 3
   },
   "file_extension": ".py",
   "mimetype": "text/x-python",
   "name": "python",
   "nbconvert_exporter": "python",
   "pygments_lexer": "ipython3",
   "version": "3.9.12"
  }
 },
 "nbformat": 4,
 "nbformat_minor": 5
}
